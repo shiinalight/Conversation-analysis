{
 "cells": [
  {
   "cell_type": "code",
   "execution_count": 1,
   "metadata": {},
   "outputs": [],
   "source": [
    "from convokit import Corpus"
   ]
  },
  {
   "cell_type": "code",
   "execution_count": 2,
   "metadata": {},
   "outputs": [],
   "source": [
    "corpus = Corpus(filename=\"chromium_convo_corpus\")"
   ]
  },
  {
   "cell_type": "code",
   "execution_count": 3,
   "metadata": {},
   "outputs": [
    {
     "name": "stdout",
     "output_type": "stream",
     "text": [
      "Number of Speakers: 4842\n",
      "Number of Utterances: 2853498\n",
      "Number of Conversations: 1484843\n"
     ]
    }
   ],
   "source": [
    "corpus.print_summary_stats()"
   ]
  },
  {
   "cell_type": "code",
   "execution_count": 8,
   "metadata": {},
   "outputs": [
    {
     "data": {
      "text/plain": [
       "Utterance({'id': 'utt0', 'speaker': Speaker([('id', 'developer_1146')]), 'conversation_id': 'con0', 'reply_to': None, 'timestamp': '2008-09-02 20:10:16', 'text': 'Can you stick this flag up in the group of excluded_warnings above?', 'meta': {'yngve_score': '2.53846153846154', 'frazier_score': '0.961538461538462', 'pdensity': '0.384615384615385', 'cdensity': '0.5', 'has_doxastic': 'FALSE', 'has_epistemic': 'FALSE', 'has_conditional': 'FALSE', 'has_investigative': 'FALSE', 'has_uncertainty': 'FALSE', 'min_formality': '0.000872735263758306', 'max_formality': '0.000872735263758306'}})"
      ]
     },
     "execution_count": 8,
     "metadata": {},
     "output_type": "execute_result"
    }
   ],
   "source": [
    "corpus.utterances[next(iter(corpus.utterances))]"
   ]
  },
  {
   "cell_type": "code",
   "execution_count": 7,
   "metadata": {},
   "outputs": [
    {
     "data": {
      "text/plain": [
       "Conversation({'_owner': <convokit.model.corpus.Corpus object at 0x126578908>, '_id': 'con0', '_utterance_ids': ['utt0'], '_usernames': None, '_meta': {'review_id': '205', 'patchset_id': '1', 'patch_id': '3', 'file_path': 'build/SConscript.main', 'line_number': '352'}})"
      ]
     },
     "execution_count": 7,
     "metadata": {},
     "output_type": "execute_result"
    }
   ],
   "source": [
    "corpus.conversations[next(iter(corpus.conversations))]"
   ]
  },
  {
   "cell_type": "code",
   "execution_count": 9,
   "metadata": {},
   "outputs": [
    {
     "data": {
      "text/plain": [
       "{'name': 'Chromium Conversations Corpus',\n",
       " 'data_url': 'https://zenodo.org/record/2590548',\n",
       " 'data_license': 'Creative Commons Attribution 4.0 International',\n",
       " 'contact': 'Benjamin S. Meyers',\n",
       " 'contact_email': 'bsm9339@rit.edu'}"
      ]
     },
     "execution_count": 9,
     "metadata": {},
     "output_type": "execute_result"
    }
   ],
   "source": [
    "corpus.meta"
   ]
  },
  {
   "cell_type": "code",
   "execution_count": 22,
   "metadata": {},
   "outputs": [
    {
     "data": {
      "text/plain": [
       "{'user_type': 'reviewer'}"
      ]
     },
     "execution_count": 22,
     "metadata": {},
     "output_type": "execute_result"
    }
   ],
   "source": [
    "next(corpus.iter_speakers()).meta"
   ]
  },
  {
   "cell_type": "code",
   "execution_count": null,
   "metadata": {},
   "outputs": [],
   "source": [
    "n"
   ]
  }
 ],
 "metadata": {
  "kernelspec": {
   "display_name": "Python 3",
   "language": "python",
   "name": "python3"
  },
  "language_info": {
   "codemirror_mode": {
    "name": "ipython",
    "version": 3
   },
   "file_extension": ".py",
   "mimetype": "text/x-python",
   "name": "python",
   "nbconvert_exporter": "python",
   "pygments_lexer": "ipython3",
   "version": "3.7.3"
  }
 },
 "nbformat": 4,
 "nbformat_minor": 2
}
