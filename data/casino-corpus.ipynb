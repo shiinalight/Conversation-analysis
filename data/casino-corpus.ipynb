{
 "cells": [
  {
   "cell_type": "code",
   "execution_count": 1,
   "id": "e2bf3830",
   "metadata": {},
   "outputs": [],
   "source": [
    "import os\n",
    "import pandas as pd\n",
    "import numpy as np\n",
    "\n",
    "from convokit import Corpus, download"
   ]
  },
  {
   "cell_type": "code",
   "execution_count": 2,
   "id": "729f1cbf",
   "metadata": {},
   "outputs": [],
   "source": [
    "#option 1: download using the corpus name\n",
    "# corpus = Corpus(filename=download(\"casino-corpus\"))\n",
    "\n",
    "#option 2: give the path to the folder containing the Corpus\n",
    "corpus = Corpus(filename=\"casino-corpus\")"
   ]
  },
  {
   "cell_type": "code",
   "execution_count": 3,
   "id": "b02e3ffe",
   "metadata": {},
   "outputs": [
    {
     "data": {
      "text/plain": [
       "{'name': 'Campsite Negotiation Dialogues',\n",
       " 'dataset_url': 'https://github.com/kushalchawla/CaSiNo',\n",
       " 'paper_url': 'https://aclanthology.org/2021.naacl-main.254.pdf'}"
      ]
     },
     "execution_count": 3,
     "metadata": {},
     "output_type": "execute_result"
    }
   ],
   "source": [
    "#prints the meta details of the corpus including a descriptive name and relevant URLs.\n",
    "corpus.meta"
   ]
  },
  {
   "cell_type": "code",
   "execution_count": 4,
   "id": "cb3dc99f",
   "metadata": {},
   "outputs": [
    {
     "name": "stdout",
     "output_type": "stream",
     "text": [
      "Number of Speakers: 846\n",
      "Number of Utterances: 14297\n",
      "Number of Conversations: 1030\n"
     ]
    }
   ],
   "source": [
    "#prints standard corpus statistics\n",
    "corpus.print_summary_stats()"
   ]
  },
  {
   "cell_type": "code",
   "execution_count": 5,
   "id": "1be1f53b",
   "metadata": {},
   "outputs": [
    {
     "data": {
      "text/plain": [
       "Conversation({'obj_type': 'conversation', 'meta': {'dialogue_id': 0, 'participant_info': {'mturk_agent_1': {'value2issue': {'Medium': 'Food', 'Low': 'Water', 'High': 'Firewood'}, 'value2reason': {'High': 'We have a larger group than normal and therefore require extra firewood to keep everyone warm, and we also have no lanterns or other light source available.', 'Medium': \"Extra food will be needed to feed our larger than normal-sized group or else we'll go hungry which will certainly impact our trip in a negative way.\", 'Low': 'Our group has sufficient water from our complement basic supplies, particularly if we ration the water sparingly among ourselves.'}, 'outcomes': {'points_scored': 19, 'satisfaction': 'Slightly satisfied', 'opponent_likeness': 'Slightly like'}}, 'mturk_agent_2': {'value2issue': {'Low': 'Food', 'Medium': 'Water', 'High': 'Firewood'}, 'value2reason': {'High': 'my dog has fleas, the fire repels them.', 'Medium': \"i'm dehydrated, and i need to drink constantly.\", 'Low': \"i'm on a diet, trying to lose weight.\"}, 'outcomes': {'points_scored': 18, 'satisfaction': 'Extremely satisfied', 'opponent_likeness': 'Extremely like'}}}}, 'vectors': [], 'tree': None, 'owner': <convokit.model.corpus.Corpus object at 0x1081c28b0>, 'id': 'utterance_0'})"
      ]
     },
     "execution_count": 5,
     "metadata": {},
     "output_type": "execute_result"
    }
   ],
   "source": [
    "#Conversation object stores the negotiation context and outcomes for each of the two speakers in its meta attribute.\n",
    "corpus.conversations[next(iter(corpus.conversations))]"
   ]
  },
  {
   "cell_type": "code",
   "execution_count": 6,
   "id": "088b50d9",
   "metadata": {},
   "outputs": [
    {
     "data": {
      "text/plain": [
       "Utterance({'obj_type': 'utterance', 'meta': {'dialogue_id': 0, 'annotations': 'promote-coordination,elicit-pref', 'speaker_internal_id': 'mturk_agent_1', 'speaker_id': 'speaker_0'}, 'vectors': [], 'speaker': Speaker({'obj_type': 'speaker', 'meta': {'speaker_id': 'speaker_0', 'demographics': {'age': 43, 'gender': 'male', 'ethnicity': 'white american', 'education': \"some 4 year college, bachelor's degree\"}, 'personality': {'svo': 'proself', 'big-five': {'extraversion': 5.0, 'agreeableness': 6.0, 'conscientiousness': 6.0, 'emotional-stability': 5.0, 'openness-to-experiences': 5.5}}}, 'vectors': [], 'owner': <convokit.model.corpus.Corpus object at 0x1081c28b0>, 'id': 'speaker_0'}), 'conversation_id': 'utterance_0', 'reply_to': None, 'timestamp': None, 'text': \"Hello! 🙂 Let's work together on a deal for these packages, shall we? What are you most interested in?\", 'owner': <convokit.model.corpus.Corpus object at 0x1081c28b0>, 'id': 'utterance_0'})"
      ]
     },
     "execution_count": 6,
     "metadata": {},
     "output_type": "execute_result"
    }
   ],
   "source": [
    "#Utterance object stores the utterance text and other meta attributes for special utterances that involve submitting a deal, accept and reject. It also includes the utterance-level strategy annotations, wherever available.\n",
    "corpus.utterances[next(iter(corpus.utterances))]"
   ]
  },
  {
   "cell_type": "code",
   "execution_count": 7,
   "id": "525088c5",
   "metadata": {},
   "outputs": [
    {
     "data": {
      "text/plain": [
       "{'speaker_id': 'speaker_0',\n",
       " 'demographics': {'age': 43,\n",
       "  'gender': 'male',\n",
       "  'ethnicity': 'white american',\n",
       "  'education': \"some 4 year college, bachelor's degree\"},\n",
       " 'personality': {'svo': 'proself',\n",
       "  'big-five': {'extraversion': 5.0,\n",
       "   'agreeableness': 6.0,\n",
       "   'conscientiousness': 6.0,\n",
       "   'emotional-stability': 5.0,\n",
       "   'openness-to-experiences': 5.5}}}"
      ]
     },
     "execution_count": 7,
     "metadata": {},
     "output_type": "execute_result"
    }
   ],
   "source": [
    "#each speaker attribute contains speaker demographics and personality information that was collected in a survey before the negotiation.\n",
    "next(corpus.iter_speakers()).meta"
   ]
  },
  {
   "cell_type": "code",
   "execution_count": 8,
   "id": "8360d640",
   "metadata": {},
   "outputs": [],
   "source": [
    "#The corpus can now be used for a number of downstream tasks:\n",
    "# - Building a pipeline-based or an end-to-end automated negotiation system that negotiates in free-form natural language based on the provided preferences and arguments.\n",
    "# - Automatically predicting negotiation strategies from a given utterance and recent context.\n",
    "# - Automatically predicting the subjective outcomes of the negotiation from the dialogue, aka the participant satisfaction and opponent likeness."
   ]
  }
 ],
 "metadata": {
  "kernelspec": {
   "display_name": "Python 3 (ipykernel)",
   "language": "python",
   "name": "python3"
  },
  "language_info": {
   "codemirror_mode": {
    "name": "ipython",
    "version": 3
   },
   "file_extension": ".py",
   "mimetype": "text/x-python",
   "name": "python",
   "nbconvert_exporter": "python",
   "pygments_lexer": "ipython3",
   "version": "3.9.7"
  }
 },
 "nbformat": 4,
 "nbformat_minor": 5
}
